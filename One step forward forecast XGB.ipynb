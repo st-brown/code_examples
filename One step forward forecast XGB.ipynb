{
 "cells": [
  {
   "cell_type": "code",
   "execution_count": null,
   "metadata": {},
   "outputs": [],
   "source": [
    "import pandas as pd\n",
    "import numpy as np\n",
    "from copy import deepcopy\n",
    "from sklearn.preprocessing import LabelEncoder\n",
    "import xgboost as xgb"
   ]
  },
  {
   "cell_type": "code",
   "execution_count": null,
   "metadata": {},
   "outputs": [],
   "source": [
    "def xgb_forecast(data,date):\n",
    "    '''Takes a DataFrame with independent and dependent variables and a date and returns \n",
    "    predictions for the dependent variable one week ahead of the given date'''\n",
    "    try:\n",
    "        #Simulate forecasting at a given date by filtering the DF to include only data \n",
    "        #from before \n",
    "        df=createVars(data,date)\n",
    "        #Make variables for the dependent variable at time t-1, t-2 ... t-5\n",
    "        for N in range(1,5):\n",
    "            df2=makelags(df,N)\n",
    "        #Turn categorical variables into integers that XGBoost can use with LabelEncoders \n",
    "        var1_label_encoder=LabelEncoder()\n",
    "        df2['categorical_var_1']=var1_label_encoder.fit_transform(df2['categorical_var_1'])\n",
    "        var2_label_encoder=LabelEncoder()\n",
    "        df2['categorical_var_2']=var2_label_encoder.fit_transform(df2['categorical_var_2'])\n",
    "        \n",
    "        #split into train and test sets\n",
    "        train,test = get_train_test(df2)\n",
    "         \n",
    "        #split train and test sets into dependent variable and independent variables\n",
    "        y_train=train['system_calls']\n",
    "        x_train=train.drop('system_calls',1)\n",
    "        x_test=test.drop('system_calls',1)\n",
    "        y_test=test['system_calls']\n",
    "        model=xgb.XGBRegressor()\n",
    "        model.fit(x_train,y_train)\n",
    "        predictions=model.predict(x_test)\n",
    "        \n",
    "        results_df=deepcopy(x_test)\n",
    "        results_df['predictions']=predictions\n",
    "        results_df['true_values']=y_test\n",
    "        #make all negative values 0\n",
    "        results_df['predictions']=np.where(results_df['predictions']<0,0,results_df['predictions'])\n",
    "        #Return categorical variables to their original form\n",
    "        results_df['categorical_var_1']=var1_label_encoder.inverse_transform(results_df['categorical_var_1'])\n",
    "        results_df['categorical_var_2']=var2_label_encoder.inverse_transform(results_df['categorical_var_2'])\n",
    "        #include only the columns we need\n",
    "        xgb_preds=results_df[['categorical_var_1','categorical_var_2','month','year','WeeksLeft','predictions']]\n",
    "        return [date,xgb_preds]\n",
    "    except:\n",
    "        print(f'{date} didnt work')\n",
    "        return (date,np.nan)"
   ]
  },
  {
   "cell_type": "code",
   "execution_count": null,
   "metadata": {},
   "outputs": [],
   "source": [
    "dates = pd.date_range(end='2019-09-01', periods=12, freq='W')\n",
    "results=[]\n",
    "for date in dates:\n",
    "    results.append(xgb_forecast(data,date))"
   ]
  }
 ],
 "metadata": {
  "kernelspec": {
   "display_name": "Python 3",
   "language": "python",
   "name": "python3"
  },
  "language_info": {
   "codemirror_mode": {
    "name": "ipython",
    "version": 3
   },
   "file_extension": ".py",
   "mimetype": "text/x-python",
   "name": "python",
   "nbconvert_exporter": "python",
   "pygments_lexer": "ipython3",
   "version": "3.7.3"
  }
 },
 "nbformat": 4,
 "nbformat_minor": 2
}
